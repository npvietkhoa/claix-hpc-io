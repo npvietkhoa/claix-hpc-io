{
 "cells": [
  {
   "cell_type": "markdown",
   "metadata": {},
   "source": [
    "- It seems like only `mpi_io_full` benchmarks with DXT have both POSIX and MPIIO function calls.\n",
    "- Normal ones like `bt.A.16` don't have this feature."
   ]
  },
  {
   "cell_type": "code",
   "execution_count": 2,
   "metadata": {},
   "outputs": [
    {
     "name": "stdout",
     "output_type": "stream",
     "text": [
      "['ph077533_bt.C.1.mpi_io_full_id215749-215749_1-11-51771-17387797071829052971_1', 'ph077533_bt.C.25_id119766-119766_1-12-39692-16245044248240981643_1', 'ph077533_bt.B.25.mpi_io_full_id45335-45335_1-11-32932-1191024549193276201_1', 'ph077533_bt.B.1.mpi_io_full_id146641-146641_1-11-32941-7126310626660110613_1', 'ph077533_bt.A.25.mpi_io_full_id146213-146213_1-11-32943-18106118645460959180_1', 'ph077533_bt.C.9.mpi_io_full_id172832-172832_1-11-51771-6052134348059707871_1', 'ph077533_bt.C.25.mpi_io_full_id227757-227757_1-11-51772-17062698119136381187_1', 'ph077533_bt.B.1_id54424-54424_1-12-39699-11408100436758256178_1', 'ph077533_bt.C.4_id174069-174069_1-12-39708-11776689627096302925_1', 'ph077533_bt.B.4.mpi_io_full_id224930-224930_1-11-33232-7884968234836009012_1', 'ph077533_bt.A.1_id225269-225269_1-12-39699-194225757733429485_1', 'ph077533_bt.A.4_id264367-264367_1-12-39708-3950305670195019376_1', 'ph077533_bt.C.16_id223695-223695_1-12-39709-10948421854399242731_1', 'ph077533_bt.B.9.mpi_io_full_id273417-273417_1-11-33232-12809072106469338807_1', 'ph077533_bt.B.4_id148182-148182_1-12-39700-14696855066093174136_1', 'ph077533_bt.C.9_id278343-278343_1-12-39700-7023021160770713952_1', 'ph077533_bt.A.16_id65957-65957_1-12-39709-2018832254077639352_1', 'ph077533_bt.B.16_id27128-27128_1-12-39709-3844262389058680591_1', 'ph077533_bt.C.4.mpi_io_full_id19410-19410_1-11-51771-6523373814393659577_1', 'ph077533_bt.A.4.mpi_io_full_id145658-145658_1-11-32944-8847216428527223988_1', 'ph077533_bt.A.16.mpi_io_full_id152799-152799_1-11-32942-797999198191144772_1', 'ph077533_bt.A.25_id40505-40505_1-12-39710-10136049451486955415_1', 'ph077533_bt.B.9_id179485-179485_1-12-39708-18060663505956981116_1', 'ph077533_bt.B.16.mpi_io_full_id113668-113668_1-11-33232-3014939493604508368_1', 'ph077533_bt.C.16.mpi_io_full_id209855-209855_1-11-51771-8663135432618789029_1', 'ph077533_bt.B.25_id102308-102308_1-12-39710-10910559000948587764_1', 'ph077533_bt.A.1.mpi_io_full_id134223-134223_1-11-32941-17265176834511367896_1', 'ph077533_bt.A.9.mpi_io_full_id126675-126675_1-11-32944-14540886171107082296_1', 'ph077533_bt.C.1_id152339-152339_1-12-39708-514353996412431582_1', 'ph077533_bt.A.9_id267202-267202_1-12-39700-8195011983223588359_1']\n",
      "['ph077533_bt.C.1.mpi_io_full_id215749-215749_1-11-51771-17387797071829052971_1', 'ph077533_bt.B.25.mpi_io_full_id45335-45335_1-11-32932-1191024549193276201_1', 'ph077533_bt.B.1.mpi_io_full_id146641-146641_1-11-32941-7126310626660110613_1', 'ph077533_bt.A.25.mpi_io_full_id146213-146213_1-11-32943-18106118645460959180_1', 'ph077533_bt.C.9.mpi_io_full_id172832-172832_1-11-51771-6052134348059707871_1', 'ph077533_bt.C.25.mpi_io_full_id227757-227757_1-11-51772-17062698119136381187_1', 'ph077533_bt.B.4.mpi_io_full_id224930-224930_1-11-33232-7884968234836009012_1', 'ph077533_bt.B.9.mpi_io_full_id273417-273417_1-11-33232-12809072106469338807_1', 'ph077533_bt.C.4.mpi_io_full_id19410-19410_1-11-51771-6523373814393659577_1', 'ph077533_bt.A.4.mpi_io_full_id145658-145658_1-11-32944-8847216428527223988_1', 'ph077533_bt.A.16.mpi_io_full_id152799-152799_1-11-32942-797999198191144772_1', 'ph077533_bt.B.16.mpi_io_full_id113668-113668_1-11-33232-3014939493604508368_1', 'ph077533_bt.C.16.mpi_io_full_id209855-209855_1-11-51771-8663135432618789029_1', 'ph077533_bt.A.1.mpi_io_full_id134223-134223_1-11-32941-17265176834511367896_1', 'ph077533_bt.A.9.mpi_io_full_id126675-126675_1-11-32944-14540886171107082296_1']\n"
     ]
    }
   ],
   "source": [
    "# specify the directory\n",
    "directory = './darshan-results'\n",
    "\n",
    "# list all folders in the directory\n",
    "folders = [f for f in os.listdir(directory) if os.path.isdir(os.path.join(directory, f))]\n",
    "print(folders)\n",
    "mpi_io_full_folders = [folder for folder in folders if 'mpi_io_full' in folder]\n",
    "print(mpi_io_full_folders)"
   ]
  },
  {
   "cell_type": "markdown",
   "metadata": {},
   "source": [
    "# Parse Exported Vampir Results to Dictionary\n",
    "- The CSV files are not in a consistent format, so they are parsed into dictionaries rather than a pandas DataFrame.\n",
    "- The CSV files are exported through Vampir for accumulated time per function."
   ]
  },
  {
   "cell_type": "code",
   "execution_count": 3,
   "metadata": {},
   "outputs": [
    {
     "name": "stdout",
     "output_type": "stream",
     "text": [
      "{'ClkPeriod/sec': '1000000000', 'StartTime[Clk]': '0', 'StopTime[Clk]': '10994643450', 'Function': 'Accumulated Exclusive Time', '': '[s]', 'mpi_read': '73.1135 s', 'mpi_write': '35.7373 s', 'posix_write': '0.88392 s', 'posix_read': '0.443711 s'}\n"
     ]
    }
   ],
   "source": [
    "import csv\n",
    "\n",
    "def parse_csv_to_dict(file_path):\n",
    "    # Dictionary to store key-value pairs\n",
    "    results = {}\n",
    "\n",
    "    # Open the file and parse it\n",
    "    with open(file_path, \"r\") as file:\n",
    "        reader = csv.reader(file, delimiter=\";\")\n",
    "        for row in reader:\n",
    "            if len(row) == 2:  # Check if the row has exactly two columns\n",
    "                key, value = row\n",
    "                # Remove quotes and trim whitespace\n",
    "                key = key.strip('\"').strip()\n",
    "                value = value.strip('\"').strip()\n",
    "                results[key] = value\n",
    "    return results\n",
    "\n",
    "# Example usage\n",
    "file_path = os.path.join(directory, mpi_io_full_folders[1], 'Function_Summary_traces.csv')\n",
    "results = parse_csv_to_dict(file_path)\n",
    "print(results)\n"
   ]
  },
  {
   "cell_type": "code",
   "execution_count": 4,
   "metadata": {},
   "outputs": [],
   "source": [
    "import re\n",
    "\n",
    "accumulated_data = []\n",
    "for folder_name in mpi_io_full_folders:\n",
    "    # shorten the directory name for better readability\n",
    "    pattern = r'bt\\.[A-C]\\.\\d{1,2}(\\.mpi_io_full)?'\n",
    "    shortened_name = re.search(pattern, folder_name).group(0)\n",
    "    file_path = os.path.join(directory, folder_name, 'Function_Summary_traces.csv')\n",
    "    paresed_data = parse_csv_to_dict(file_path)\n",
    "    paresed_data['shortened_name'] = shortened_name\n",
    "    accumulated_data.append(paresed_data)"
   ]
  },
  {
   "cell_type": "code",
   "execution_count": 17,
   "metadata": {},
   "outputs": [],
   "source": [
    "io_data_list = list(\n",
    "    map(\n",
    "        lambda x: {key: x[key] for key in ['shortened_name', 'mpi_read', 'mpi_write', 'posix_write', 'posix_read']}, \n",
    "        accumulated_data\n",
    "    )\n",
    ")"
   ]
  },
  {
   "cell_type": "code",
   "execution_count": 18,
   "metadata": {},
   "outputs": [],
   "source": [
    "# Extract numerical parts from shortened_name and sort based on them\n",
    "df = pd.DataFrame(io_data_list)\n",
    "df['sort_key'] = df['shortened_name'].apply(lambda x: [int(y) if y.isdigit() else y for y in re.split(r'(\\d+)', x)])\n",
    "df = df.sort_values(by='sort_key').drop(columns='sort_key')\n"
   ]
  },
  {
   "cell_type": "code",
   "execution_count": 19,
   "metadata": {},
   "outputs": [
    {
     "data": {
      "text/html": [
       "<div>\n",
       "<style scoped>\n",
       "    .dataframe tbody tr th:only-of-type {\n",
       "        vertical-align: middle;\n",
       "    }\n",
       "\n",
       "    .dataframe tbody tr th {\n",
       "        vertical-align: top;\n",
       "    }\n",
       "\n",
       "    .dataframe thead th {\n",
       "        text-align: right;\n",
       "    }\n",
       "</style>\n",
       "<table border=\"1\" class=\"dataframe\">\n",
       "  <thead>\n",
       "    <tr style=\"text-align: right;\">\n",
       "      <th></th>\n",
       "      <th>shortened_name</th>\n",
       "      <th>mpi_read</th>\n",
       "      <th>mpi_write</th>\n",
       "      <th>posix_write</th>\n",
       "      <th>posix_read</th>\n",
       "    </tr>\n",
       "  </thead>\n",
       "  <tbody>\n",
       "    <tr>\n",
       "      <th>13</th>\n",
       "      <td>bt.A.1.mpi_io_full</td>\n",
       "      <td>0.0492167 s</td>\n",
       "      <td>0.163944 s</td>\n",
       "      <td>0.177525 s</td>\n",
       "      <td>0.116641 s</td>\n",
       "    </tr>\n",
       "    <tr>\n",
       "      <th>9</th>\n",
       "      <td>bt.A.4.mpi_io_full</td>\n",
       "      <td>0.951383 s</td>\n",
       "      <td>1.5034 s</td>\n",
       "      <td>0.189187 s</td>\n",
       "      <td>0.188815 s</td>\n",
       "    </tr>\n",
       "    <tr>\n",
       "      <th>14</th>\n",
       "      <td>bt.A.9.mpi_io_full</td>\n",
       "      <td>1.04537 s</td>\n",
       "      <td>3.03988 s</td>\n",
       "      <td>0.189409 s</td>\n",
       "      <td>0.0531504 s</td>\n",
       "    </tr>\n",
       "    <tr>\n",
       "      <th>10</th>\n",
       "      <td>bt.A.16.mpi_io_full</td>\n",
       "      <td>6.93704 s</td>\n",
       "      <td>5.65494 s</td>\n",
       "      <td>0.183206 s</td>\n",
       "      <td>0.379247 s</td>\n",
       "    </tr>\n",
       "    <tr>\n",
       "      <th>3</th>\n",
       "      <td>bt.A.25.mpi_io_full</td>\n",
       "      <td>5.24276 s</td>\n",
       "      <td>11.0625 s</td>\n",
       "      <td>0.254929 s</td>\n",
       "      <td>0.152406 s</td>\n",
       "    </tr>\n",
       "    <tr>\n",
       "      <th>2</th>\n",
       "      <td>bt.B.1.mpi_io_full</td>\n",
       "      <td>0.264503 s</td>\n",
       "      <td>0.60103 s</td>\n",
       "      <td>0.919374 s</td>\n",
       "      <td>0.122316 s</td>\n",
       "    </tr>\n",
       "    <tr>\n",
       "      <th>6</th>\n",
       "      <td>bt.B.4.mpi_io_full</td>\n",
       "      <td>3.71287 s</td>\n",
       "      <td>5.9661 s</td>\n",
       "      <td>1.03425 s</td>\n",
       "      <td>0.532271 s</td>\n",
       "    </tr>\n",
       "    <tr>\n",
       "      <th>7</th>\n",
       "      <td>bt.B.9.mpi_io_full</td>\n",
       "      <td>8.34542 s</td>\n",
       "      <td>11.8921 s</td>\n",
       "      <td>0.89259 s</td>\n",
       "      <td>0.596882 s</td>\n",
       "    </tr>\n",
       "    <tr>\n",
       "      <th>11</th>\n",
       "      <td>bt.B.16.mpi_io_full</td>\n",
       "      <td>12.2189 s</td>\n",
       "      <td>21.9259 s</td>\n",
       "      <td>0.895495 s</td>\n",
       "      <td>0.458824 s</td>\n",
       "    </tr>\n",
       "    <tr>\n",
       "      <th>1</th>\n",
       "      <td>bt.B.25.mpi_io_full</td>\n",
       "      <td>73.1135 s</td>\n",
       "      <td>35.7373 s</td>\n",
       "      <td>0.88392 s</td>\n",
       "      <td>0.443711 s</td>\n",
       "    </tr>\n",
       "    <tr>\n",
       "      <th>0</th>\n",
       "      <td>bt.C.1.mpi_io_full</td>\n",
       "      <td>1.1684 s</td>\n",
       "      <td>2.43261 s</td>\n",
       "      <td>3.19357 s</td>\n",
       "      <td>1.4133 s</td>\n",
       "    </tr>\n",
       "    <tr>\n",
       "      <th>8</th>\n",
       "      <td>bt.C.4.mpi_io_full</td>\n",
       "      <td>11.9484 s</td>\n",
       "      <td>18.216 s</td>\n",
       "      <td>3.35022 s</td>\n",
       "      <td>1.74738 s</td>\n",
       "    </tr>\n",
       "    <tr>\n",
       "      <th>4</th>\n",
       "      <td>bt.C.9.mpi_io_full</td>\n",
       "      <td>25.0248 s</td>\n",
       "      <td>40.7233 s</td>\n",
       "      <td>3.43094 s</td>\n",
       "      <td>1.47297 s</td>\n",
       "    </tr>\n",
       "    <tr>\n",
       "      <th>12</th>\n",
       "      <td>bt.C.16.mpi_io_full</td>\n",
       "      <td>46.2598 s</td>\n",
       "      <td>73.711 s</td>\n",
       "      <td>3.23443 s</td>\n",
       "      <td>1.59525 s</td>\n",
       "    </tr>\n",
       "    <tr>\n",
       "      <th>5</th>\n",
       "      <td>bt.C.25.mpi_io_full</td>\n",
       "      <td>52.5602 s</td>\n",
       "      <td>120.942 s</td>\n",
       "      <td>3.38705 s</td>\n",
       "      <td>1.02956 s</td>\n",
       "    </tr>\n",
       "  </tbody>\n",
       "</table>\n",
       "</div>"
      ],
      "text/plain": [
       "         shortened_name     mpi_read   mpi_write posix_write   posix_read\n",
       "13   bt.A.1.mpi_io_full  0.0492167 s  0.163944 s  0.177525 s   0.116641 s\n",
       "9    bt.A.4.mpi_io_full   0.951383 s    1.5034 s  0.189187 s   0.188815 s\n",
       "14   bt.A.9.mpi_io_full    1.04537 s   3.03988 s  0.189409 s  0.0531504 s\n",
       "10  bt.A.16.mpi_io_full    6.93704 s   5.65494 s  0.183206 s   0.379247 s\n",
       "3   bt.A.25.mpi_io_full    5.24276 s   11.0625 s  0.254929 s   0.152406 s\n",
       "2    bt.B.1.mpi_io_full   0.264503 s   0.60103 s  0.919374 s   0.122316 s\n",
       "6    bt.B.4.mpi_io_full    3.71287 s    5.9661 s   1.03425 s   0.532271 s\n",
       "7    bt.B.9.mpi_io_full    8.34542 s   11.8921 s   0.89259 s   0.596882 s\n",
       "11  bt.B.16.mpi_io_full    12.2189 s   21.9259 s  0.895495 s   0.458824 s\n",
       "1   bt.B.25.mpi_io_full    73.1135 s   35.7373 s   0.88392 s   0.443711 s\n",
       "0    bt.C.1.mpi_io_full     1.1684 s   2.43261 s   3.19357 s     1.4133 s\n",
       "8    bt.C.4.mpi_io_full    11.9484 s    18.216 s   3.35022 s    1.74738 s\n",
       "4    bt.C.9.mpi_io_full    25.0248 s   40.7233 s   3.43094 s    1.47297 s\n",
       "12  bt.C.16.mpi_io_full    46.2598 s    73.711 s   3.23443 s    1.59525 s\n",
       "5   bt.C.25.mpi_io_full    52.5602 s   120.942 s   3.38705 s    1.02956 s"
      ]
     },
     "execution_count": 19,
     "metadata": {},
     "output_type": "execute_result"
    }
   ],
   "source": [
    "df"
   ]
  },
  {
   "cell_type": "code",
   "execution_count": 20,
   "metadata": {},
   "outputs": [],
   "source": [
    "df.to_csv('darshan_results.csv', index=False)"
   ]
  }
 ],
 "metadata": {
  "kernelspec": {
   "display_name": "Python 3 (ipykernel)",
   "language": "python",
   "name": "python3"
  }
 },
 "nbformat": 4,
 "nbformat_minor": 2
}
