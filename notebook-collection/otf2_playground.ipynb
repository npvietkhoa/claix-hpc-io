{
 "cells": [
  {
   "cell_type": "code",
   "execution_count": 77,
   "metadata": {},
   "outputs": [],
   "source": [
    "import glob\n",
    "import os\n",
    "import pandas as pd"
   ]
  },
  {
   "cell_type": "code",
   "execution_count": 78,
   "metadata": {},
   "outputs": [],
   "source": [
    "import otf2\n",
    "from otf2.events import *"
   ]
  },
  {
   "cell_type": "code",
   "execution_count": 79,
   "metadata": {},
   "outputs": [
    {
     "name": "stdout",
     "output_type": "stream",
     "text": [
      "['./scorep-results/bt.C.25.mpi_io_full', './scorep-results/bt.B.9.mpi_io_full', './scorep-results/bt.A.4.scp', './scorep-results/bt.B.9.scp', './scorep-results/bt.B.25.scp', './scorep-results/bt.C.9.scp', './scorep-results/bt.B.1.mpi_io_full', './scorep-results/bt.A.1.mpi_io_full', './scorep-results/bt.A.9.mpi_io_full', './scorep-results/bt.B.16.mpi_io_full', './scorep-results/bt.B.25.mpi_io_full', './scorep-results/bt.C.4.mpi_io_full', './scorep-results/bt.A.16.scp', './scorep-results/bt.C.1.scp', './scorep-results/bt.C.25.scp', './scorep-results/bt.B.4.mpi_io_full', './scorep-results/bt.C.4.scp', './scorep-results/bt.C.16.scp', './scorep-results/bt.B.1.scp', './scorep-results/bt.A.4.mpi_io_full', './scorep-results/bt.A.1.scp', './scorep-results/bt.B.4.scp', './scorep-results/bt.A.16.mpi_io_full', './scorep-results/bt.C.16.mpi_io_full', './scorep-results/bt.B.16.scp', './scorep-results/bt.A.9.scp', './scorep-results/bt.A.25.scp', './scorep-results/bt.A.25.mpi_io_full', './scorep-results/bt.C.9.mpi_io_full', './scorep-results/bt.C.1.mpi_io_full']\n"
     ]
    }
   ],
   "source": [
    "scorep_result_dir = './scorep-results'\n",
    "\n",
    "# get all files in the directory\n",
    "scorep_result_dir = './scorep-results'\n",
    "scorep_result_dir = glob.glob(os.path.join(scorep_result_dir, '*'))\n",
    "print(scorep_result_dir)"
   ]
  },
  {
   "cell_type": "code",
   "execution_count": 122,
   "metadata": {},
   "outputs": [
    {
     "name": "stdout",
     "output_type": "stream",
     "text": [
      "./scorep-results/bt.C.4.mpi_io_full/traces.otf2\n"
     ]
    }
   ],
   "source": [
    "sample_otf2_file_path = \"./scorep-results/bt.C.4.mpi_io_full\" + '/traces.otf2'\n",
    "print(sample_otf2_file_path)"
   ]
  },
  {
   "cell_type": "code",
   "execution_count": 123,
   "metadata": {},
   "outputs": [],
   "source": [
    "def read_trace(trace_name):\n",
    "    with otf2.reader.open(trace_name) as trace:\n",
    "        return trace"
   ]
  },
  {
   "cell_type": "code",
   "execution_count": 124,
   "metadata": {},
   "outputs": [],
   "source": [
    "sample_trace = read_trace(sample_otf2_file_path)"
   ]
  },
  {
   "cell_type": "code",
   "execution_count": 125,
   "metadata": {},
   "outputs": [
    {
     "data": {
      "text/plain": [
       "['__class__',\n",
       " '__delattr__',\n",
       " '__dict__',\n",
       " '__dir__',\n",
       " '__doc__',\n",
       " '__eq__',\n",
       " '__format__',\n",
       " '__ge__',\n",
       " '__getattribute__',\n",
       " '__getstate__',\n",
       " '__gt__',\n",
       " '__hash__',\n",
       " '__init__',\n",
       " '__init_subclass__',\n",
       " '__le__',\n",
       " '__lt__',\n",
       " '__module__',\n",
       " '__ne__',\n",
       " '__new__',\n",
       " '__otf2_wrapper__set_clock_properties',\n",
       " '__otf2_wrapper_funcptr__set_clock_properties',\n",
       " '__reduce__',\n",
       " '__reduce_ex__',\n",
       " '__repr__',\n",
       " '__setattr__',\n",
       " '__sizeof__',\n",
       " '__str__',\n",
       " '__subclasshook__',\n",
       " '__weakref__',\n",
       " '_attributes',\n",
       " '_calling_context_properties',\n",
       " '_calling_contexts',\n",
       " '_callpath_parameters',\n",
       " '_callpaths',\n",
       " '_callsites',\n",
       " '_cart_coordinates',\n",
       " '_cart_dimensions',\n",
       " '_cart_topologies',\n",
       " '_comms',\n",
       " '_get',\n",
       " '_groups',\n",
       " '_interrupt_generators',\n",
       " '_io_file_properties',\n",
       " '_io_files',\n",
       " '_io_handles',\n",
       " '_io_paradigms',\n",
       " '_io_pre_created_handle_states',\n",
       " '_location_group_properties',\n",
       " '_location_groups',\n",
       " '_location_properties',\n",
       " '_locations',\n",
       " '_metric_class_recorders',\n",
       " '_metric_members',\n",
       " '_metrics',\n",
       " '_paradigm_properties',\n",
       " '_paradigms',\n",
       " '_parameters',\n",
       " '_regions',\n",
       " '_registry_for_type',\n",
       " '_rma_wins',\n",
       " '_set_clock_properties',\n",
       " '_set_global_def_reader_callbacks',\n",
       " '_source_code_locations',\n",
       " '_string',\n",
       " '_strings',\n",
       " '_system_tree_node_domains',\n",
       " '_system_tree_node_properties',\n",
       " '_system_tree_nodes',\n",
       " 'attribute',\n",
       " 'attributes',\n",
       " 'calling_context',\n",
       " 'calling_context_properties',\n",
       " 'calling_context_property',\n",
       " 'calling_contexts',\n",
       " 'callpath',\n",
       " 'callpath_parameter',\n",
       " 'callpath_parameters',\n",
       " 'callpaths',\n",
       " 'callsite',\n",
       " 'callsites',\n",
       " 'cart_coordinate',\n",
       " 'cart_coordinates',\n",
       " 'cart_dimension',\n",
       " 'cart_dimensions',\n",
       " 'cart_topologies',\n",
       " 'cart_topology',\n",
       " 'clock_properties',\n",
       " 'comm',\n",
       " 'comms',\n",
       " 'group',\n",
       " 'groups',\n",
       " 'inter_comm',\n",
       " 'inter_comms',\n",
       " 'interrupt_generator',\n",
       " 'interrupt_generators',\n",
       " 'io_directories',\n",
       " 'io_directory',\n",
       " 'io_file_properties',\n",
       " 'io_file_property',\n",
       " 'io_files',\n",
       " 'io_handle',\n",
       " 'io_handles',\n",
       " 'io_paradigm',\n",
       " 'io_paradigms',\n",
       " 'io_pre_created_handle_state',\n",
       " 'io_pre_created_handle_states',\n",
       " 'io_regular_file',\n",
       " 'io_regular_files',\n",
       " 'location',\n",
       " 'location_group',\n",
       " 'location_group_properties',\n",
       " 'location_group_property',\n",
       " 'location_groups',\n",
       " 'location_properties',\n",
       " 'location_property',\n",
       " 'locations',\n",
       " 'metric',\n",
       " 'metric_class',\n",
       " 'metric_class_recorder',\n",
       " 'metric_class_recorders',\n",
       " 'metric_classes',\n",
       " 'metric_instance',\n",
       " 'metric_instances',\n",
       " 'metric_member',\n",
       " 'metric_members',\n",
       " 'metrics',\n",
       " 'paradigm',\n",
       " 'paradigm_properties',\n",
       " 'paradigm_property',\n",
       " 'paradigms',\n",
       " 'parameter',\n",
       " 'parameters',\n",
       " 'region',\n",
       " 'regions',\n",
       " 'rma_win',\n",
       " 'rma_wins',\n",
       " 'source_code_location',\n",
       " 'source_code_locations',\n",
       " 'strings',\n",
       " 'system_tree_node',\n",
       " 'system_tree_node_domain',\n",
       " 'system_tree_node_domains',\n",
       " 'system_tree_node_properties',\n",
       " 'system_tree_node_property',\n",
       " 'system_tree_nodes',\n",
       " 'write']"
      ]
     },
     "execution_count": 125,
     "metadata": {},
     "output_type": "execute_result"
    }
   ],
   "source": [
    "dir(sample_trace.definitions)"
   ]
  },
  {
   "cell_type": "code",
   "execution_count": 127,
   "metadata": {},
   "outputs": [
    {
     "data": {
      "text/plain": [
       "[Location [0] 'Master thread',\n",
       " Location [1] 'Master thread',\n",
       " Location [2] 'Master thread',\n",
       " Location [3] 'Master thread']"
      ]
     },
     "execution_count": 127,
     "metadata": {},
     "output_type": "execute_result"
    }
   ],
   "source": [
    "list(sample_trace.definitions.locations)"
   ]
  },
  {
   "cell_type": "code",
   "execution_count": 128,
   "metadata": {},
   "outputs": [
    {
     "name": "stdout",
     "output_type": "stream",
     "text": [
      "Name: Location [0]: 'name': 'Master thread', 'type': LocationType.CPU_THREAD, 'number_of_events': 25155, 'group': LocationGroup [0] 'MPI Rank 0'\n",
      "Name: Location [1]: 'name': 'Master thread', 'type': LocationType.CPU_THREAD, 'number_of_events': 25152, 'group': LocationGroup [1] 'MPI Rank 1'\n",
      "Name: Location [2]: 'name': 'Master thread', 'type': LocationType.CPU_THREAD, 'number_of_events': 25152, 'group': LocationGroup [2] 'MPI Rank 2'\n",
      "Name: Location [3]: 'name': 'Master thread', 'type': LocationType.CPU_THREAD, 'number_of_events': 25152, 'group': LocationGroup [3] 'MPI Rank 3'\n"
     ]
    }
   ],
   "source": [
    "import otf2\n",
    "\n",
    "# Open the OTF2 trace file\n",
    "with otf2.reader.open(sample_otf2_file_path) as trace:\n",
    "    # Iterate through all locations and print their details\n",
    "    for location in trace.definitions.locations:\n",
    "        print(f\"Name: {location}\")"
   ]
  },
  {
   "cell_type": "code",
   "execution_count": 133,
   "metadata": {},
   "outputs": [],
   "source": [
    "from collections import defaultdict\n",
    "import otf2\n",
    "from otf2.events import Enter, Leave\n",
    "\n",
    "def calculate_accumulated_function_time(sample_otf2_file_path):\n",
    "    # Track total time and call counts per function (region)\n",
    "    function_times = defaultdict(float)\n",
    "    function_counts = defaultdict(int)\n",
    "    \n",
    "    # Track active function calls per thread/process (location)\n",
    "    # Structure: {location: [(region, enter_time)]}\n",
    "    location_stacks = defaultdict(list)\n",
    "\n",
    "    with otf2.reader.open(sample_otf2_file_path) as trace:\n",
    "        clock_resolution = trace.timer_resolution\n",
    "\n",
    "        for location, event in trace.events:\n",
    "            if isinstance(event, Enter):\n",
    "                # Push the region and its start time onto the location's stack\n",
    "                location_stacks[location].append((event.region, event.time))\n",
    "                # Increment the call count for this region\n",
    "                function_counts[event.region] += 1\n",
    "            elif isinstance(event, Leave):\n",
    "                if not location_stacks[location]:\n",
    "                    raise RuntimeError(f\"Warning: Unmatched Leave event in location {location.name}\")\n",
    "\n",
    "                # Pop the last Enter event for this location\n",
    "                region, enter_time = location_stacks[location].pop()\n",
    "                if region != event.region:\n",
    "                    raise RuntimeError(f\"Warning: Mismatched Enter/Leave events in location {location.name}\")\n",
    "\n",
    "                # Calculate elapsed time and accumulate\n",
    "                elapsed_ticks = event.time - enter_time\n",
    "                elapsed_sec = elapsed_ticks / clock_resolution\n",
    "                function_times[region] += elapsed_sec\n",
    "\n",
    "    # Print results\n",
    "    for region in function_times:\n",
    "        total_time = function_times[region]\n",
    "        call_count = function_counts[region]\n",
    "        print(f\"Function: {region.name}\")\n",
    "        print(f\"  Total Calls: {call_count}\")\n",
    "        print(f\"  Total Time: {total_time:.6f} seconds\")\n",
    "        print(f\"  Average Time per Call: {total_time / call_count:.6f} seconds\\n\" if call_count > 0 else \"\\n\")\n"
   ]
  },
  {
   "cell_type": "code",
   "execution_count": 134,
   "metadata": {},
   "outputs": [
    {
     "name": "stdout",
     "output_type": "stream",
     "text": [
      "Function: MPI_Init\n",
      "  Total Calls: 4\n",
      "  Total Time: 3.571143 seconds\n",
      "  Average Time per Call: 0.892786 seconds\n",
      "\n",
      "Function: MPI_Comm_size\n",
      "  Total Calls: 4\n",
      "  Total Time: 0.000007 seconds\n",
      "  Average Time per Call: 0.000002 seconds\n",
      "\n",
      "Function: MPI_Comm_rank\n",
      "  Total Calls: 4\n",
      "  Total Time: 0.000002 seconds\n",
      "  Average Time per Call: 0.000000 seconds\n",
      "\n",
      "Function: MPI_Comm_dup\n",
      "  Total Calls: 8\n",
      "  Total Time: 0.002375 seconds\n",
      "  Average Time per Call: 0.000297 seconds\n",
      "\n",
      "Function: MPI_Bcast\n",
      "  Total Calls: 32\n",
      "  Total Time: 0.003023 seconds\n",
      "  Average Time per Call: 0.000094 seconds\n",
      "\n",
      "Function: MPI_File_delete\n",
      "  Total Calls: 1\n",
      "  Total Time: 0.035998 seconds\n",
      "  Average Time per Call: 0.035998 seconds\n",
      "\n",
      "Function: MPI_Barrier\n",
      "  Total Calls: 12\n",
      "  Total Time: 0.112276 seconds\n",
      "  Average Time per Call: 0.009356 seconds\n",
      "\n",
      "Function: MPI_File_open\n",
      "  Total Calls: 8\n",
      "  Total Time: 0.233338 seconds\n",
      "  Average Time per Call: 0.029167 seconds\n",
      "\n",
      "Function: MPI_File_set_view\n",
      "  Total Calls: 8\n",
      "  Total Time: 0.002926 seconds\n",
      "  Average Time per Call: 0.000366 seconds\n",
      "\n",
      "Function: MPI_Irecv\n",
      "  Total Calls: 9672\n",
      "  Total Time: 0.013122 seconds\n",
      "  Average Time per Call: 0.000001 seconds\n",
      "\n",
      "Function: MPI_Isend\n",
      "  Total Calls: 9672\n",
      "  Total Time: 0.667570 seconds\n",
      "  Average Time per Call: 0.000069 seconds\n",
      "\n",
      "Function: MPI_Waitall\n",
      "  Total Calls: 808\n",
      "  Total Time: 0.598138 seconds\n",
      "  Average Time per Call: 0.000740 seconds\n",
      "\n",
      "Function: MPI_Wait\n",
      "  Total Calls: 9648\n",
      "  Total Time: 10.193293 seconds\n",
      "  Average Time per Call: 0.001057 seconds\n",
      "\n",
      "Function: MPI_File_write_at_all\n",
      "  Total Calls: 160\n",
      "  Total Time: 20.865238 seconds\n",
      "  Average Time per Call: 0.130408 seconds\n",
      "\n",
      "Function: MPI_File_close\n",
      "  Total Calls: 8\n",
      "  Total Time: 0.001114 seconds\n",
      "  Average Time per Call: 0.000139 seconds\n",
      "\n",
      "Function: MPI_File_read_at_all\n",
      "  Total Calls: 160\n",
      "  Total Time: 12.750575 seconds\n",
      "  Average Time per Call: 0.079691 seconds\n",
      "\n",
      "Function: MPI_Allreduce\n",
      "  Total Calls: 164\n",
      "  Total Time: 0.111274 seconds\n",
      "  Average Time per Call: 0.000678 seconds\n",
      "\n",
      "Function: MPI_Reduce\n",
      "  Total Calls: 8\n",
      "  Total Time: 0.000176 seconds\n",
      "  Average Time per Call: 0.000022 seconds\n",
      "\n",
      "Function: MPI_Finalize\n",
      "  Total Calls: 4\n",
      "  Total Time: 0.000056 seconds\n",
      "  Average Time per Call: 0.000014 seconds\n",
      "\n"
     ]
    }
   ],
   "source": [
    "calculate_accumulated_function_time(sample_otf2_file_path)"
   ]
  },
  {
   "cell_type": "code",
   "execution_count": null,
   "metadata": {},
   "outputs": [],
   "source": []
  }
 ],
 "metadata": {
  "kernelspec": {
   "display_name": "Python 3 (ipykernel)",
   "language": "python",
   "name": "python3"
  },
  "language_info": {
   "codemirror_mode": {
    "name": "ipython",
    "version": 3
   },
   "file_extension": ".py",
   "mimetype": "text/x-python",
   "name": "python",
   "nbconvert_exporter": "python",
   "pygments_lexer": "ipython3",
   "version": "3.12.8"
  }
 },
 "nbformat": 4,
 "nbformat_minor": 2
}
