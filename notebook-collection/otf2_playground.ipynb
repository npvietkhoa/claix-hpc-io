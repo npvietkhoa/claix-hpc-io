{
 "cells": [
  {
   "cell_type": "code",
   "execution_count": 34,
   "metadata": {},
   "outputs": [],
   "source": [
    "import glob\n",
    "import os\n",
    "import pandas as pd"
   ]
  },
  {
   "cell_type": "code",
   "execution_count": 35,
   "metadata": {},
   "outputs": [],
   "source": [
    "scorep_result_dir = './scorep-results'\n",
    "\n",
    "# get all files in the directory\n",
    "scorep_result_dir = './scorep-results'\n",
    "scorep_result_dir = glob.glob(os.path.join(scorep_result_dir, '*'))"
   ]
  },
  {
   "cell_type": "code",
   "execution_count": 36,
   "metadata": {},
   "outputs": [],
   "source": [
    "otf2_trace = \"./scorep-results/bt.C.4.mpi_io_full\" + '/traces.otf2'"
   ]
  },
  {
   "cell_type": "code",
   "execution_count": 37,
   "metadata": {},
   "outputs": [],
   "source": [
    "import otf2.reader\n",
    "from otf2.events import Enter\n",
    "def extract_unique_functions(trace_file_path: str) -> set:\n",
    "    \"\"\"\n",
    "    Extract unique function names from an OTF2 trace file.\n",
    "    \n",
    "    Args:\n",
    "        trace_file_path (str): Path to the OTF2 trace file\n",
    "            Example: './path/to/traces.otf2'\n",
    "    \n",
    "    Returns:\n",
    "        set[str]: Set of unique function names found in the trace\n",
    "            Example: {'MPI_Init', 'MPI_Finalize', 'MPI_Barrier'}\n",
    "    \n",
    "    Raises:\n",
    "        ValueError: If file path doesn't end with .otf2\n",
    "        FileNotFoundError: If trace file doesn't exist\n",
    "    \"\"\"\n",
    "    # Validate input file\n",
    "    if not trace_file_path.endswith('.otf2'):\n",
    "        raise ValueError(\"Input file must be an .otf2 trace file\")\n",
    "    \n",
    "    if not os.path.exists(trace_file_path):\n",
    "        raise FileNotFoundError(f\"Trace file not found: {trace_file_path}\")\n",
    "\n",
    "    unique_functions = set()\n",
    "    \n",
    "    try:\n",
    "        with otf2.reader.open(trace_file_path) as trace:\n",
    "            for _, event in trace.events:\n",
    "                if isinstance(event, Enter):\n",
    "                    unique_functions.add(event.region.name)\n",
    "    except Exception as e:\n",
    "        raise RuntimeError(f\"Error reading trace file: {str(e)}\")\n",
    "            \n",
    "    return unique_functions"
   ]
  },
  {
   "cell_type": "code",
   "execution_count": 38,
   "metadata": {},
   "outputs": [
    {
     "data": {
      "text/plain": [
       "{'MPI_Allreduce',\n",
       " 'MPI_Barrier',\n",
       " 'MPI_Bcast',\n",
       " 'MPI_Comm_dup',\n",
       " 'MPI_Comm_rank',\n",
       " 'MPI_Comm_size',\n",
       " 'MPI_File_close',\n",
       " 'MPI_File_delete',\n",
       " 'MPI_File_open',\n",
       " 'MPI_File_read_at_all',\n",
       " 'MPI_File_set_view',\n",
       " 'MPI_File_write_at_all',\n",
       " 'MPI_Finalize',\n",
       " 'MPI_Init',\n",
       " 'MPI_Irecv',\n",
       " 'MPI_Isend',\n",
       " 'MPI_Reduce',\n",
       " 'MPI_Wait',\n",
       " 'MPI_Waitall'}"
      ]
     },
     "execution_count": 38,
     "metadata": {},
     "output_type": "execute_result"
    }
   ],
   "source": [
    "extract_unique_functions(otf2_trace)"
   ]
  },
  {
   "cell_type": "markdown",
   "metadata": {},
   "source": [
    "# Extract Metrics by Function Calls"
   ]
  },
  {
   "cell_type": "code",
   "execution_count": 39,
   "metadata": {},
   "outputs": [],
   "source": [
    "from collections import defaultdict\n",
    "from otf2.events import Enter, Leave\n",
    "\n",
    "def accumulated_function_time(otf2_trace: str) -> dict:\n",
    "    \"\"\"\n",
    "    Calculate timing metrics from an OTF2 trace file.\n",
    "    \n",
    "    Returns a dictionary with keys:\n",
    "    - Function: Name of the function\n",
    "    - Total Time (s): Total time spent in function\n",
    "    - Call Count: Number of invocations\n",
    "    - Average Time (s): Mean time per call\n",
    "    \n",
    "    Usage:\n",
    "    >>> otf2_trace = \"./scorep-results/bt.C.4.mpi_io_full/traces.otf2\"\n",
    "    >>> metrics_dict = calculate_accumulated_function_time(otf2_trace)\n",
    "    >>> print(metrics_dict)\n",
    "    \n",
    "    Results:\n",
    "    >>> list(metrics_dict.items())[:5]\n",
    "        [('MPI_Init', {'Total Time (s)': 0.123456, 'Call Count': 10, 'Average Time (s)': 0.012346}),\n",
    "         ('MPI_Finalize', {'Total Time (s)': 0.234567, 'Call Count': 20, 'Average Time (s)': 0.011728}),\n",
    "         ('MPI_Barrier', {'Total Time (s)': 0.345678, 'Call Count': 30, 'Average Time (s)': 0.011523}),\n",
    "         ('MPI_Bcast', {'Total Time (s)': 0.456789, 'Call Count': 40, 'Average Time (s)': 0.011420}),\n",
    "         ('MPI_Reduce', {'Total Time (s)': 0.567890, 'Call Count': 50, 'Average Time (s)': 0.011358})]\n",
    "    \"\"\"\n",
    "    # Input validation\n",
    "    if not otf2_trace.endswith('.otf2'):\n",
    "        raise ValueError(\"Input file must be an .otf2 trace file\")\n",
    "    \n",
    "    # Initialize tracking dictionaries\n",
    "    metrics = {\n",
    "        'times': defaultdict(float), \n",
    "        'counts': defaultdict(int)    \n",
    "    }\n",
    "    call_stacks = defaultdict(list)\n",
    "    \n",
    "    # Process trace events\n",
    "    with otf2.reader.open(otf2_trace) as trace:\n",
    "        resolution = trace.timer_resolution\n",
    "        \n",
    "        for location, event in trace.events:\n",
    "            if isinstance(event, Enter):\n",
    "                call_stacks[location].append((event.region, event.time))\n",
    "                metrics['counts'][event.region] += 1\n",
    "                \n",
    "            elif isinstance(event, Leave):\n",
    "                if not call_stacks[location]:\n",
    "                    raise RuntimeError(f\"Unmatched Leave event in {location.name}\")\n",
    "                    \n",
    "                region, start_time = call_stacks[location].pop()\n",
    "                if region != event.region:\n",
    "                    raise RuntimeError(f\"Mismatched Enter/Leave in {location.name}\")\n",
    "                \n",
    "                duration = (event.time - start_time) / resolution\n",
    "                metrics['times'][region] += duration\n",
    "    \n",
    "   # Constructing the result dictionary \n",
    "   \n",
    "    result_dict = {}\n",
    "    for fn in metrics['times']:\n",
    "        result_dict[fn.name] = {\n",
    "            \"Total Time (s)\": metrics['times'][fn],\n",
    "            \"Call Count\": metrics['counts'][fn],\n",
    "            \"Average Time (s)\": metrics['times'][fn] / metrics['counts'][fn]\n",
    "        }\n",
    "    \n",
    "    return result_dict"
   ]
  },
  {
   "cell_type": "code",
   "execution_count": 40,
   "metadata": {},
   "outputs": [
    {
     "data": {
      "application/vnd.microsoft.datawrangler.viewer.v0+json": {
       "columns": [
        {
         "name": "index",
         "rawType": "object",
         "type": "string"
        },
        {
         "name": "Total Time (s)",
         "rawType": "float64",
         "type": "float"
        },
        {
         "name": "Call Count",
         "rawType": "float64",
         "type": "float"
        },
        {
         "name": "Average Time (s)",
         "rawType": "float64",
         "type": "float"
        }
       ],
       "conversionMethod": "pd.DataFrame",
       "ref": "b3bae4b8-102c-4997-a900-0dc348b2c1a2",
       "rows": [
        [
         "MPI_Init",
         "3.5711431373642006",
         "4.0",
         "0.8927857843410502"
        ],
        [
         "MPI_Comm_size",
         "6.716190070020886e-06",
         "4.0",
         "1.6790475175052215e-06"
        ],
        [
         "MPI_Comm_rank",
         "1.9942855936789188e-06",
         "4.0",
         "4.985713984197297e-07"
        ],
        [
         "MPI_Comm_dup",
         "0.002375367475394443",
         "8.0",
         "0.0002969209344243054"
        ],
        [
         "MPI_Bcast",
         "0.0030225341029229383",
         "32.0",
         "9.445419071634182e-05"
        ],
        [
         "MPI_File_delete",
         "0.035998068299164444",
         "1.0",
         "0.035998068299164444"
        ],
        [
         "MPI_Barrier",
         "0.11227617225758385",
         "12.0",
         "0.009356347688131988"
        ],
        [
         "MPI_File_open",
         "0.23333822207906946",
         "8.0",
         "0.029167277759883682"
        ],
        [
         "MPI_File_set_view",
         "0.002925956013525517",
         "8.0",
         "0.00036574450169068963"
        ],
        [
         "MPI_Irecv",
         "0.013122010635002217",
         "9672.0",
         "1.3567008514270284e-06"
        ],
        [
         "MPI_Isend",
         "0.6675703320088404",
         "9672.0",
         "6.902091935575273e-05"
        ],
        [
         "MPI_Waitall",
         "0.5981383043030648",
         "808.0",
         "0.000740270178592902"
        ],
        [
         "MPI_Wait",
         "10.193293131167502",
         "9648.0",
         "0.0010565187739601475"
        ],
        [
         "MPI_File_write_at_all",
         "20.86523794195941",
         "160.0",
         "0.13040773713724632"
        ],
        [
         "MPI_File_close",
         "0.00111374755169241",
         "8.0",
         "0.00013921844396155126"
        ],
        [
         "MPI_File_read_at_all",
         "12.750574819846191",
         "160.0",
         "0.0796910926240387"
        ],
        [
         "MPI_Allreduce",
         "0.11127367041344946",
         "164.0",
         "0.0006784979903259114"
        ],
        [
         "MPI_Reduce",
         "0.00017586665603092126",
         "8.0",
         "2.1983332003865158e-05"
        ],
        [
         "MPI_Finalize",
         "5.577904424574352e-05",
         "4.0",
         "1.394476106143588e-05"
        ]
       ],
       "shape": {
        "columns": 3,
        "rows": 19
       }
      },
      "text/html": [
       "<div>\n",
       "<style scoped>\n",
       "    .dataframe tbody tr th:only-of-type {\n",
       "        vertical-align: middle;\n",
       "    }\n",
       "\n",
       "    .dataframe tbody tr th {\n",
       "        vertical-align: top;\n",
       "    }\n",
       "\n",
       "    .dataframe thead th {\n",
       "        text-align: right;\n",
       "    }\n",
       "</style>\n",
       "<table border=\"1\" class=\"dataframe\">\n",
       "  <thead>\n",
       "    <tr style=\"text-align: right;\">\n",
       "      <th></th>\n",
       "      <th>Total Time (s)</th>\n",
       "      <th>Call Count</th>\n",
       "      <th>Average Time (s)</th>\n",
       "    </tr>\n",
       "  </thead>\n",
       "  <tbody>\n",
       "    <tr>\n",
       "      <th>MPI_Init</th>\n",
       "      <td>3.571143</td>\n",
       "      <td>4.0</td>\n",
       "      <td>8.927858e-01</td>\n",
       "    </tr>\n",
       "    <tr>\n",
       "      <th>MPI_Comm_size</th>\n",
       "      <td>0.000007</td>\n",
       "      <td>4.0</td>\n",
       "      <td>1.679048e-06</td>\n",
       "    </tr>\n",
       "    <tr>\n",
       "      <th>MPI_Comm_rank</th>\n",
       "      <td>0.000002</td>\n",
       "      <td>4.0</td>\n",
       "      <td>4.985714e-07</td>\n",
       "    </tr>\n",
       "    <tr>\n",
       "      <th>MPI_Comm_dup</th>\n",
       "      <td>0.002375</td>\n",
       "      <td>8.0</td>\n",
       "      <td>2.969209e-04</td>\n",
       "    </tr>\n",
       "    <tr>\n",
       "      <th>MPI_Bcast</th>\n",
       "      <td>0.003023</td>\n",
       "      <td>32.0</td>\n",
       "      <td>9.445419e-05</td>\n",
       "    </tr>\n",
       "    <tr>\n",
       "      <th>MPI_File_delete</th>\n",
       "      <td>0.035998</td>\n",
       "      <td>1.0</td>\n",
       "      <td>3.599807e-02</td>\n",
       "    </tr>\n",
       "    <tr>\n",
       "      <th>MPI_Barrier</th>\n",
       "      <td>0.112276</td>\n",
       "      <td>12.0</td>\n",
       "      <td>9.356348e-03</td>\n",
       "    </tr>\n",
       "    <tr>\n",
       "      <th>MPI_File_open</th>\n",
       "      <td>0.233338</td>\n",
       "      <td>8.0</td>\n",
       "      <td>2.916728e-02</td>\n",
       "    </tr>\n",
       "    <tr>\n",
       "      <th>MPI_File_set_view</th>\n",
       "      <td>0.002926</td>\n",
       "      <td>8.0</td>\n",
       "      <td>3.657445e-04</td>\n",
       "    </tr>\n",
       "    <tr>\n",
       "      <th>MPI_Irecv</th>\n",
       "      <td>0.013122</td>\n",
       "      <td>9672.0</td>\n",
       "      <td>1.356701e-06</td>\n",
       "    </tr>\n",
       "    <tr>\n",
       "      <th>MPI_Isend</th>\n",
       "      <td>0.667570</td>\n",
       "      <td>9672.0</td>\n",
       "      <td>6.902092e-05</td>\n",
       "    </tr>\n",
       "    <tr>\n",
       "      <th>MPI_Waitall</th>\n",
       "      <td>0.598138</td>\n",
       "      <td>808.0</td>\n",
       "      <td>7.402702e-04</td>\n",
       "    </tr>\n",
       "    <tr>\n",
       "      <th>MPI_Wait</th>\n",
       "      <td>10.193293</td>\n",
       "      <td>9648.0</td>\n",
       "      <td>1.056519e-03</td>\n",
       "    </tr>\n",
       "    <tr>\n",
       "      <th>MPI_File_write_at_all</th>\n",
       "      <td>20.865238</td>\n",
       "      <td>160.0</td>\n",
       "      <td>1.304077e-01</td>\n",
       "    </tr>\n",
       "    <tr>\n",
       "      <th>MPI_File_close</th>\n",
       "      <td>0.001114</td>\n",
       "      <td>8.0</td>\n",
       "      <td>1.392184e-04</td>\n",
       "    </tr>\n",
       "    <tr>\n",
       "      <th>MPI_File_read_at_all</th>\n",
       "      <td>12.750575</td>\n",
       "      <td>160.0</td>\n",
       "      <td>7.969109e-02</td>\n",
       "    </tr>\n",
       "    <tr>\n",
       "      <th>MPI_Allreduce</th>\n",
       "      <td>0.111274</td>\n",
       "      <td>164.0</td>\n",
       "      <td>6.784980e-04</td>\n",
       "    </tr>\n",
       "    <tr>\n",
       "      <th>MPI_Reduce</th>\n",
       "      <td>0.000176</td>\n",
       "      <td>8.0</td>\n",
       "      <td>2.198333e-05</td>\n",
       "    </tr>\n",
       "    <tr>\n",
       "      <th>MPI_Finalize</th>\n",
       "      <td>0.000056</td>\n",
       "      <td>4.0</td>\n",
       "      <td>1.394476e-05</td>\n",
       "    </tr>\n",
       "  </tbody>\n",
       "</table>\n",
       "</div>"
      ],
      "text/plain": [
       "                       Total Time (s)  Call Count  Average Time (s)\n",
       "MPI_Init                     3.571143         4.0      8.927858e-01\n",
       "MPI_Comm_size                0.000007         4.0      1.679048e-06\n",
       "MPI_Comm_rank                0.000002         4.0      4.985714e-07\n",
       "MPI_Comm_dup                 0.002375         8.0      2.969209e-04\n",
       "MPI_Bcast                    0.003023        32.0      9.445419e-05\n",
       "MPI_File_delete              0.035998         1.0      3.599807e-02\n",
       "MPI_Barrier                  0.112276        12.0      9.356348e-03\n",
       "MPI_File_open                0.233338         8.0      2.916728e-02\n",
       "MPI_File_set_view            0.002926         8.0      3.657445e-04\n",
       "MPI_Irecv                    0.013122      9672.0      1.356701e-06\n",
       "MPI_Isend                    0.667570      9672.0      6.902092e-05\n",
       "MPI_Waitall                  0.598138       808.0      7.402702e-04\n",
       "MPI_Wait                    10.193293      9648.0      1.056519e-03\n",
       "MPI_File_write_at_all       20.865238       160.0      1.304077e-01\n",
       "MPI_File_close               0.001114         8.0      1.392184e-04\n",
       "MPI_File_read_at_all        12.750575       160.0      7.969109e-02\n",
       "MPI_Allreduce                0.111274       164.0      6.784980e-04\n",
       "MPI_Reduce                   0.000176         8.0      2.198333e-05\n",
       "MPI_Finalize                 0.000056         4.0      1.394476e-05"
      ]
     },
     "execution_count": 40,
     "metadata": {},
     "output_type": "execute_result"
    }
   ],
   "source": [
    "import pandas as pd\n",
    "acc_fun_time_df = pd.DataFrame(accumulated_function_time(otf2_trace)).T\n",
    "acc_fun_time_df"
   ]
  },
  {
   "cell_type": "code",
   "execution_count": 41,
   "metadata": {},
   "outputs": [],
   "source": [
    "import pandas as pd\n",
    "\n",
    "def beautify_df(df: pd.DataFrame, top_n: int = 10, sort_by: str | int = 0) -> pd.DataFrame:\n",
    "    \"\"\"\n",
    "    Beautify the DataFrame by sorting and aggregating smaller values.\n",
    "    \n",
    "    Parameters:\n",
    "    df (pd.DataFrame): The input DataFrame.\n",
    "    top_n (int): The number of top rows to retain before aggregating the rest.\n",
    "    sort_by (str | int): The column name or index to sort by.\n",
    "\n",
    "    Returns:\n",
    "    pd.DataFrame: A beautified DataFrame with the top_n rows and an aggregated 'others' row.\n",
    "    \"\"\"\n",
    "    # Determine the sorting column\n",
    "    if isinstance(sort_by, int):\n",
    "        if sort_by < 0 or sort_by >= len(df.columns):\n",
    "            raise ValueError(\"Invalid column index for sorting.\")\n",
    "        sort_by = df.columns[sort_by]\n",
    "    elif sort_by not in df.columns:\n",
    "        raise ValueError(\"Invalid column name for sorting.\")\n",
    "    \n",
    "    sorted_df = df.sort_values(by=sort_by, ascending=False)\n",
    "    \n",
    "    # Aggregate rows beyond the top_n into a single row labeled 'others'\n",
    "    if len(sorted_df) > top_n:\n",
    "        remaining_df = sorted_df.iloc[top_n:].sum(numeric_only=True).to_frame().T\n",
    "        remaining_df.index = ['others']\n",
    "    else:\n",
    "        return sorted_df\n",
    "    \n",
    "    # Concatenate top rows with the aggregated 'others' row\n",
    "    result_df = pd.concat([sorted_df.head(top_n), remaining_df])\n",
    "    \n",
    "    return result_df.round(4)"
   ]
  },
  {
   "cell_type": "code",
   "execution_count": 42,
   "metadata": {},
   "outputs": [
    {
     "data": {
      "application/vnd.microsoft.datawrangler.viewer.v0+json": {
       "columns": [
        {
         "name": "index",
         "rawType": "object",
         "type": "string"
        },
        {
         "name": "Total Time (s)",
         "rawType": "float64",
         "type": "float"
        },
        {
         "name": "Call Count",
         "rawType": "float64",
         "type": "float"
        },
        {
         "name": "Average Time (s)",
         "rawType": "float64",
         "type": "float"
        }
       ],
       "conversionMethod": "pd.DataFrame",
       "ref": "af90be25-6ca7-4364-89b0-519b167e5e37",
       "rows": [
        [
         "MPI_Init",
         "3.5711",
         "4.0",
         "0.8928"
        ],
        [
         "MPI_File_write_at_all",
         "20.8652",
         "160.0",
         "0.1304"
        ],
        [
         "MPI_File_read_at_all",
         "12.7506",
         "160.0",
         "0.0797"
        ],
        [
         "MPI_File_delete",
         "0.036",
         "1.0",
         "0.036"
        ],
        [
         "MPI_File_open",
         "0.2333",
         "8.0",
         "0.0292"
        ],
        [
         "others",
         "11.7054",
         "30052.0",
         "0.0128"
        ]
       ],
       "shape": {
        "columns": 3,
        "rows": 6
       }
      },
      "text/html": [
       "<div>\n",
       "<style scoped>\n",
       "    .dataframe tbody tr th:only-of-type {\n",
       "        vertical-align: middle;\n",
       "    }\n",
       "\n",
       "    .dataframe tbody tr th {\n",
       "        vertical-align: top;\n",
       "    }\n",
       "\n",
       "    .dataframe thead th {\n",
       "        text-align: right;\n",
       "    }\n",
       "</style>\n",
       "<table border=\"1\" class=\"dataframe\">\n",
       "  <thead>\n",
       "    <tr style=\"text-align: right;\">\n",
       "      <th></th>\n",
       "      <th>Total Time (s)</th>\n",
       "      <th>Call Count</th>\n",
       "      <th>Average Time (s)</th>\n",
       "    </tr>\n",
       "  </thead>\n",
       "  <tbody>\n",
       "    <tr>\n",
       "      <th>MPI_Init</th>\n",
       "      <td>3.5711</td>\n",
       "      <td>4.0</td>\n",
       "      <td>0.8928</td>\n",
       "    </tr>\n",
       "    <tr>\n",
       "      <th>MPI_File_write_at_all</th>\n",
       "      <td>20.8652</td>\n",
       "      <td>160.0</td>\n",
       "      <td>0.1304</td>\n",
       "    </tr>\n",
       "    <tr>\n",
       "      <th>MPI_File_read_at_all</th>\n",
       "      <td>12.7506</td>\n",
       "      <td>160.0</td>\n",
       "      <td>0.0797</td>\n",
       "    </tr>\n",
       "    <tr>\n",
       "      <th>MPI_File_delete</th>\n",
       "      <td>0.0360</td>\n",
       "      <td>1.0</td>\n",
       "      <td>0.0360</td>\n",
       "    </tr>\n",
       "    <tr>\n",
       "      <th>MPI_File_open</th>\n",
       "      <td>0.2333</td>\n",
       "      <td>8.0</td>\n",
       "      <td>0.0292</td>\n",
       "    </tr>\n",
       "    <tr>\n",
       "      <th>others</th>\n",
       "      <td>11.7054</td>\n",
       "      <td>30052.0</td>\n",
       "      <td>0.0128</td>\n",
       "    </tr>\n",
       "  </tbody>\n",
       "</table>\n",
       "</div>"
      ],
      "text/plain": [
       "                       Total Time (s)  Call Count  Average Time (s)\n",
       "MPI_Init                       3.5711         4.0            0.8928\n",
       "MPI_File_write_at_all         20.8652       160.0            0.1304\n",
       "MPI_File_read_at_all          12.7506       160.0            0.0797\n",
       "MPI_File_delete                0.0360         1.0            0.0360\n",
       "MPI_File_open                  0.2333         8.0            0.0292\n",
       "others                        11.7054     30052.0            0.0128"
      ]
     },
     "execution_count": 42,
     "metadata": {},
     "output_type": "execute_result"
    }
   ],
   "source": [
    "beautify_df(acc_fun_time_df, top_n=5, sort_by=2)"
   ]
  },
  {
   "cell_type": "code",
   "execution_count": 43,
   "metadata": {},
   "outputs": [
    {
     "name": "stdout",
     "output_type": "stream",
     "text": [
      "100611\n"
     ]
    }
   ],
   "source": [
    "def list_all_events(trace_file_path: str):\n",
    "    \"\"\"\n",
    "    List all events from an OTF2 trace file.\n",
    "    \n",
    "    Args:\n",
    "        trace_file_path (str): Path to the OTF2 trace file\n",
    "    \n",
    "    Returns:\n",
    "        list: A list of all events found in the trace file\n",
    "    \"\"\"\n",
    "    # Validate input file\n",
    "    if not trace_file_path.endswith('.otf2'):\n",
    "        raise ValueError(\"Input file must be an .otf2 trace file\")\n",
    "    \n",
    "    if not os.path.exists(trace_file_path):\n",
    "        raise FileNotFoundError(f\"Trace file not found: {trace_file_path}\")\n",
    "    \n",
    "    event_list = []\n",
    "    with otf2.reader.open(trace_file_path) as trace:\n",
    "        for _, event in trace.events:\n",
    "            event_list.append(event)\n",
    "    \n",
    "    return event_list\n",
    "\n",
    "# Example usage\n",
    "all_events = list_all_events(otf2_trace)\n",
    "print(len(all_events))\n"
   ]
  },
  {
   "cell_type": "code",
   "execution_count": 44,
   "metadata": {},
   "outputs": [],
   "source": [
    "from enum import Enum\n",
    "\n",
    "class Otf2Paradigm(Enum):\n",
    "    \"\"\"\n",
    "    Enumeration for different I/O paradigms with their identifications in OTF2 trace files.\n",
    "    \n",
    "    Attributes:\n",
    "        MPIIO (str): Represents the MPI-IO paradigm.\n",
    "        POSIX (str): Represents the POSIX paradigm.\n",
    "    \"\"\"\n",
    "    MPIIO = 'MPI-IO'\n",
    "    POSIX = 'POSIX'"
   ]
  },
  {
   "cell_type": "markdown",
   "metadata": {},
   "source": [
    "# Extract Bandwidth Information by I/O Operation Types"
   ]
  },
  {
   "cell_type": "code",
   "execution_count": 45,
   "metadata": {},
   "outputs": [
    {
     "name": "stdout",
     "output_type": "stream",
     "text": [
      "{IoOperationMode.READ, IoOperationMode.WRITE}\n"
     ]
    }
   ],
   "source": [
    "with otf2.reader.open(otf2_trace) as trace:\n",
    "    op_types = set()\n",
    "    for _, event in trace.events:     \n",
    "        if isinstance(event, otf2.events.IoOperationBegin):\n",
    "            op_types.add(event.mode)\n",
    "        else:\n",
    "            continue\n",
    "    print(op_types)"
   ]
  },
  {
   "cell_type": "code",
   "execution_count": 46,
   "metadata": {},
   "outputs": [],
   "source": [
    "def io_bandwidth_by_operation_type(trace_file_path: str) -> dict:\n",
    "    \"\"\"\n",
    "    Calculate I/O bandwidth metrics grouped by operation mode (READ/WRITE) from an OTF2 trace file.\n",
    "\n",
    "    Args:\n",
    "        trace_file_path (str): Path to the OTF2 trace file\n",
    "\n",
    "    Returns:\n",
    "        dict: Dictionary containing bandwidth metrics per operation mode:\n",
    "            {\n",
    "                operation_mode: {\n",
    "                    'count': int,              # Number of operations\n",
    "                    'total_bytes': int,        # Total bytes transferred\n",
    "                    'total_duration': float,   # Total duration in seconds\n",
    "                    'avg_bandwidth': float,    # Average bandwidth in bytes/second\n",
    "                    'min_bandwidth': float,    # Minimum bandwidth in bytes/second\n",
    "                    'max_bandwidth': float     # Maximum bandwidth in bytes/second\n",
    "                }\n",
    "            }\n",
    "\n",
    "    Example:\n",
    "        >>> metrics = io_bandwidth_by_operation_type(\"./traces.otf2\")\n",
    "        >>> print(metrics[otf2.IoOperationMode.READ])\n",
    "        {\n",
    "            'count': 100,\n",
    "            'total_bytes': 1048576,\n",
    "            'total_duration': 0.5,\n",
    "            'avg_bandwidth': 2097152.0,\n",
    "            'min_bandwidth': 1048576.0,\n",
    "            'max_bandwidth': 4194304.0\n",
    "        }\n",
    "    \"\"\"\n",
    "    # Input validation\n",
    "    if not otf2_trace.endswith('.otf2'):\n",
    "        raise ValueError(\"Input file must be an .otf2 trace file\")\n",
    "\n",
    "    # Initialize storage for I/O operations by operation type\n",
    "    io_ops = defaultdict(list)\n",
    "    \n",
    "    with otf2.reader.open(trace_file_path) as trace:\n",
    "        time_resolution = trace.timer_resolution\n",
    "        # Track ongoing operations by matching_id\n",
    "        ongoing_ops = dict()\n",
    "        \n",
    "        for location, event in trace.events:\n",
    "            # Handle direct I/O operations\n",
    "            if isinstance(event, otf2.events.IoOperationBegin):\n",
    "                ongoing_ops[location, event.matching_id] = {\n",
    "                    'start_time': event.time,\n",
    "                    'bytes_requested': event.bytes_request,\n",
    "                    'op_mode': event.mode\n",
    "                }\n",
    "                \n",
    "            elif isinstance(event, otf2.events.IoOperationComplete):\n",
    "                if (location, event.matching_id) in ongoing_ops:\n",
    "                    start_info = ongoing_ops[(location, event.matching_id)]\n",
    "                    duration = (event.time - start_info['start_time']) / time_resolution\n",
    "\n",
    "                    assert event.bytes_result == start_info['bytes_requested']\n",
    "                    bytes_transferred = event.bytes_result\n",
    "                    \n",
    "                    if duration > 0:\n",
    "                        bandwidth = bytes_transferred / duration\n",
    "                        op_mode = start_info['op_mode']\n",
    "                        io_ops[op_mode].append({\n",
    "                            'bytes': bytes_transferred,\n",
    "                            'duration': duration,\n",
    "                            'bandwidth': bandwidth\n",
    "                        })\n",
    "                    \n",
    "                    del ongoing_ops[(location, event.matching_id)]\n",
    "            else:\n",
    "                pass\n",
    "            \n",
    "\n",
    "\n",
    "    # Calculate metrics per operation type\n",
    "    metrics = {}\n",
    "    \n",
    "    for op_mode, operations in io_ops.items():\n",
    "        if operations:  # Only include operations that actually occurred\n",
    "            metrics[op_mode] = {\n",
    "                'count': len(operations),\n",
    "                'total_bytes': sum(op['bytes'] for op in operations),\n",
    "                'total_duration': sum(op['duration'] for op in operations),\n",
    "                'min_bandwidth': min((op['bandwidth'] for op in operations), default=0),\n",
    "                'max_bandwidth': max((op['bandwidth'] for op in operations), default=0)\n",
    "            }\n",
    "            \n",
    "            # Calculate average bandwidth\n",
    "            if metrics[op_mode]['total_duration'] > 0:\n",
    "                metrics[op_mode]['avg_bandwidth'] = \\\n",
    "                    (metrics[op_mode]['total_bytes']) / \\\n",
    "                    (metrics[op_mode]['total_duration'])\n",
    "            else:\n",
    "                metrics[op_mode]['avg_bandwidth'] = 0\n",
    "    return metrics"
   ]
  },
  {
   "cell_type": "code",
   "execution_count": 47,
   "metadata": {},
   "outputs": [
    {
     "data": {
      "text/plain": [
       "{IoOperationMode.WRITE: {'count': 160,\n",
       "  'total_bytes': 6802444800,\n",
       "  'total_duration': 20.864085853457667,\n",
       "  'min_bandwidth': 141650272.97728464,\n",
       "  'max_bandwidth': 357241816.45105994,\n",
       "  'avg_bandwidth': 326036081.70413446},\n",
       " IoOperationMode.READ: {'count': 160,\n",
       "  'total_bytes': 6802444800,\n",
       "  'total_duration': 12.750237656057056,\n",
       "  'min_bandwidth': 166246445.67537937,\n",
       "  'max_bandwidth': 657328608.4881408,\n",
       "  'avg_bandwidth': 533515137.7957625}}"
      ]
     },
     "execution_count": 47,
     "metadata": {},
     "output_type": "execute_result"
    }
   ],
   "source": [
    "io_bandwidth_by_operation_type(otf2_trace)"
   ]
  }
 ],
 "metadata": {
  "kernelspec": {
   "display_name": "Python 3 (ipykernel)",
   "language": "python",
   "name": "python3"
  },
  "language_info": {
   "codemirror_mode": {
    "name": "ipython",
    "version": 3
   },
   "file_extension": ".py",
   "mimetype": "text/x-python",
   "name": "python",
   "nbconvert_exporter": "python",
   "pygments_lexer": "ipython3",
   "version": "3.12.8"
  }
 },
 "nbformat": 4,
 "nbformat_minor": 2
}
