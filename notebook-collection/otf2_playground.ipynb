{
 "cells": [
  {
   "cell_type": "code",
   "execution_count": 1,
   "metadata": {},
   "outputs": [],
   "source": [
    "import glob\n",
    "import os"
   ]
  },
  {
   "cell_type": "code",
   "execution_count": 5,
   "metadata": {},
   "outputs": [],
   "source": [
    "import otf2\n",
    "from otf2.events import *"
   ]
  },
  {
   "cell_type": "code",
   "execution_count": 8,
   "metadata": {},
   "outputs": [
    {
     "name": "stdout",
     "output_type": "stream",
     "text": [
      "./scorep-results/bt.C.25.mpi_io_full\n"
     ]
    }
   ],
   "source": [
    "scorep_result_dir = './scorep-results'\n",
    "\n",
    "# get all files in the directory\n",
    "scorep_result_dir = './scorep-results'\n",
    "scorep_result_dir = glob.glob(os.path.join(scorep_result_dir, '*'))\n",
    "\n",
    "print(scorep_result_dir[0])"
   ]
  },
  {
   "cell_type": "code",
   "execution_count": 3,
   "metadata": {},
   "outputs": [],
   "source": [
    "sample_otf2_file_path = scorep_result_dir[0] + '/traces.otf2'"
   ]
  },
  {
   "cell_type": "code",
   "execution_count": 67,
   "metadata": {},
   "outputs": [],
   "source": [
    "def read_trace(trace_name):\n",
    "    with otf2.reader.open(trace_name) as trace:\n",
    "        return trace"
   ]
  },
  {
   "cell_type": "code",
   "execution_count": 69,
   "metadata": {},
   "outputs": [],
   "source": [
    "sample_trace = read_trace(sample_otf2_file_path)"
   ]
  },
  {
   "cell_type": "code",
   "execution_count": 75,
   "metadata": {},
   "outputs": [
    {
     "data": {
      "text/plain": [
       "['__class__',\n",
       " '__delattr__',\n",
       " '__dict__',\n",
       " '__dir__',\n",
       " '__doc__',\n",
       " '__eq__',\n",
       " '__format__',\n",
       " '__ge__',\n",
       " '__getattribute__',\n",
       " '__getstate__',\n",
       " '__gt__',\n",
       " '__hash__',\n",
       " '__init__',\n",
       " '__init_subclass__',\n",
       " '__le__',\n",
       " '__lt__',\n",
       " '__module__',\n",
       " '__ne__',\n",
       " '__new__',\n",
       " '__otf2_wrapper__set_clock_properties',\n",
       " '__otf2_wrapper_funcptr__set_clock_properties',\n",
       " '__reduce__',\n",
       " '__reduce_ex__',\n",
       " '__repr__',\n",
       " '__setattr__',\n",
       " '__sizeof__',\n",
       " '__str__',\n",
       " '__subclasshook__',\n",
       " '__weakref__',\n",
       " '_attributes',\n",
       " '_calling_context_properties',\n",
       " '_calling_contexts',\n",
       " '_callpath_parameters',\n",
       " '_callpaths',\n",
       " '_callsites',\n",
       " '_cart_coordinates',\n",
       " '_cart_dimensions',\n",
       " '_cart_topologies',\n",
       " '_comms',\n",
       " '_get',\n",
       " '_groups',\n",
       " '_interrupt_generators',\n",
       " '_io_file_properties',\n",
       " '_io_files',\n",
       " '_io_handles',\n",
       " '_io_paradigms',\n",
       " '_io_pre_created_handle_states',\n",
       " '_location_group_properties',\n",
       " '_location_groups',\n",
       " '_location_properties',\n",
       " '_locations',\n",
       " '_metric_class_recorders',\n",
       " '_metric_members',\n",
       " '_metrics',\n",
       " '_paradigm_properties',\n",
       " '_paradigms',\n",
       " '_parameters',\n",
       " '_regions',\n",
       " '_registry_for_type',\n",
       " '_rma_wins',\n",
       " '_set_clock_properties',\n",
       " '_set_global_def_reader_callbacks',\n",
       " '_source_code_locations',\n",
       " '_string',\n",
       " '_strings',\n",
       " '_system_tree_node_domains',\n",
       " '_system_tree_node_properties',\n",
       " '_system_tree_nodes',\n",
       " 'attribute',\n",
       " 'attributes',\n",
       " 'calling_context',\n",
       " 'calling_context_properties',\n",
       " 'calling_context_property',\n",
       " 'calling_contexts',\n",
       " 'callpath',\n",
       " 'callpath_parameter',\n",
       " 'callpath_parameters',\n",
       " 'callpaths',\n",
       " 'callsite',\n",
       " 'callsites',\n",
       " 'cart_coordinate',\n",
       " 'cart_coordinates',\n",
       " 'cart_dimension',\n",
       " 'cart_dimensions',\n",
       " 'cart_topologies',\n",
       " 'cart_topology',\n",
       " 'clock_properties',\n",
       " 'comm',\n",
       " 'comms',\n",
       " 'group',\n",
       " 'groups',\n",
       " 'inter_comm',\n",
       " 'inter_comms',\n",
       " 'interrupt_generator',\n",
       " 'interrupt_generators',\n",
       " 'io_directories',\n",
       " 'io_directory',\n",
       " 'io_file_properties',\n",
       " 'io_file_property',\n",
       " 'io_files',\n",
       " 'io_handle',\n",
       " 'io_handles',\n",
       " 'io_paradigm',\n",
       " 'io_paradigms',\n",
       " 'io_pre_created_handle_state',\n",
       " 'io_pre_created_handle_states',\n",
       " 'io_regular_file',\n",
       " 'io_regular_files',\n",
       " 'location',\n",
       " 'location_group',\n",
       " 'location_group_properties',\n",
       " 'location_group_property',\n",
       " 'location_groups',\n",
       " 'location_properties',\n",
       " 'location_property',\n",
       " 'locations',\n",
       " 'metric',\n",
       " 'metric_class',\n",
       " 'metric_class_recorder',\n",
       " 'metric_class_recorders',\n",
       " 'metric_classes',\n",
       " 'metric_instance',\n",
       " 'metric_instances',\n",
       " 'metric_member',\n",
       " 'metric_members',\n",
       " 'metrics',\n",
       " 'paradigm',\n",
       " 'paradigm_properties',\n",
       " 'paradigm_property',\n",
       " 'paradigms',\n",
       " 'parameter',\n",
       " 'parameters',\n",
       " 'region',\n",
       " 'regions',\n",
       " 'rma_win',\n",
       " 'rma_wins',\n",
       " 'source_code_location',\n",
       " 'source_code_locations',\n",
       " 'strings',\n",
       " 'system_tree_node',\n",
       " 'system_tree_node_domain',\n",
       " 'system_tree_node_domains',\n",
       " 'system_tree_node_properties',\n",
       " 'system_tree_node_property',\n",
       " 'system_tree_nodes',\n",
       " 'write']"
      ]
     },
     "execution_count": 75,
     "metadata": {},
     "output_type": "execute_result"
    }
   ],
   "source": [
    "dir(sample_trace.definitions)"
   ]
  },
  {
   "cell_type": "code",
   "execution_count": 81,
   "metadata": {},
   "outputs": [
    {
     "data": {
      "text/plain": [
       "['__class__',\n",
       " '__contains__',\n",
       " '__delattr__',\n",
       " '__dict__',\n",
       " '__dir__',\n",
       " '__doc__',\n",
       " '__eq__',\n",
       " '__format__',\n",
       " '__ge__',\n",
       " '__getattribute__',\n",
       " '__getitem__',\n",
       " '__getstate__',\n",
       " '__gt__',\n",
       " '__hash__',\n",
       " '__init__',\n",
       " '__init_subclass__',\n",
       " '__iter__',\n",
       " '__le__',\n",
       " '__len__',\n",
       " '__lt__',\n",
       " '__module__',\n",
       " '__ne__',\n",
       " '__new__',\n",
       " '__reduce__',\n",
       " '__reduce_ex__',\n",
       " '__repr__',\n",
       " '__setattr__',\n",
       " '__sizeof__',\n",
       " '__str__',\n",
       " '__subclasshook__',\n",
       " '__weakref__',\n",
       " '_callback_gen',\n",
       " '_default_type',\n",
       " '_definition_registry',\n",
       " '_elements_by_key',\n",
       " '_elements_by_ref',\n",
       " '_extra_callbacks',\n",
       " '_next_ref',\n",
       " '_ref',\n",
       " '_register',\n",
       " 'create',\n",
       " 'get']"
      ]
     },
     "execution_count": 81,
     "metadata": {},
     "output_type": "execute_result"
    }
   ],
   "source": [
    "dir(sample_trace.definitions.regions)"
   ]
  },
  {
   "cell_type": "code",
   "execution_count": null,
   "metadata": {},
   "outputs": [],
   "source": []
  }
 ],
 "metadata": {
  "kernelspec": {
   "display_name": "Python 3 (ipykernel)",
   "language": "python",
   "name": "python3"
  },
  "language_info": {
   "codemirror_mode": {
    "name": "ipython",
    "version": 3
   },
   "file_extension": ".py",
   "mimetype": "text/x-python",
   "name": "python",
   "nbconvert_exporter": "python",
   "pygments_lexer": "ipython3",
   "version": "3.12.8"
  }
 },
 "nbformat": 4,
 "nbformat_minor": 2
}
